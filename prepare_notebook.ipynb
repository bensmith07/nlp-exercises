{
 "cells": [
  {
   "cell_type": "code",
   "execution_count": 1,
   "id": "c5193a65",
   "metadata": {},
   "outputs": [],
   "source": [
    "import unicodedata\n",
    "import re\n",
    "import json\n",
    "\n",
    "import nltk\n",
    "from nltk.tokenize.toktok import ToktokTokenizer\n",
    "from nltk.corpus import stopwords\n",
    "\n",
    "import pandas as pd\n",
    "\n",
    "import acquire\n",
    "import prepare"
   ]
  },
  {
   "cell_type": "markdown",
   "id": "c8e32d99",
   "metadata": {},
   "source": [
    "#### 1. Define a function named basic_clean. It should take in a string and apply some basic text cleaning to it::\n",
    "- lowercase everyth9ing\n",
    "- normalize unicode characters\n",
    "- replace anything that is not a letter, number, whitespace, or single quote"
   ]
  },
  {
   "cell_type": "code",
   "execution_count": 2,
   "id": "5413c54f",
   "metadata": {},
   "outputs": [],
   "source": [
    "def basic_clean(text):\n",
    "    text = text.lower()\n",
    "    text = unicodedata.normalize('NFKD', text)\\\n",
    "        .encode('ascii', 'ignore')\\\n",
    "        .decode('utf-8', 'ignore')\n",
    "    text = re.sub(r\"[^a-z0-9'\\s]\", '', text)\n",
    "    return text"
   ]
  },
  {
   "cell_type": "markdown",
   "id": "577a5217",
   "metadata": {},
   "source": [
    "#### 2. Define a function named tokenize. It should take in a string and tokenize all the words in the string.\n"
   ]
  },
  {
   "cell_type": "code",
   "execution_count": 3,
   "id": "995a03b6",
   "metadata": {},
   "outputs": [],
   "source": [
    "def tokenize(text):\n",
    "    tokenizer = nltk.tokenize.ToktokTokenizer()\n",
    "    return tokenizer.tokenize(text, return_str=True)"
   ]
  },
  {
   "cell_type": "markdown",
   "id": "783ab64e",
   "metadata": {},
   "source": [
    "#### 3. Define a function named stem. It should accept some text and return the text after applying stemming to all the words.\n"
   ]
  },
  {
   "cell_type": "code",
   "execution_count": 4,
   "id": "da42fd14",
   "metadata": {},
   "outputs": [],
   "source": [
    "def stem(text):\n",
    "    ps = nltk.porter.PorterStemmer()\n",
    "    words = text.split()\n",
    "    stems = [ps.stem(word) for word in words]\n",
    "    return ' '.join(stems)"
   ]
  },
  {
   "cell_type": "markdown",
   "id": "a6d3e920",
   "metadata": {},
   "source": [
    "#### 4. Define a function named lemmatize. It should accept some text and return the text after applying lemmatization to each word.\n"
   ]
  },
  {
   "cell_type": "code",
   "execution_count": 5,
   "id": "e9bcd3e8",
   "metadata": {},
   "outputs": [],
   "source": [
    "def lemmatize(text):\n",
    "    wnl = nltk.stem.WordNetLemmatizer()\n",
    "    lemmas = [wnl.lemmatize(word) for word in text.split()]\n",
    "    return ' '.join(lemmas)"
   ]
  },
  {
   "cell_type": "markdown",
   "id": "37e593dc",
   "metadata": {},
   "source": [
    "#### 5. Define a function named remove_stopwords. It should accept some text and return the text after removing all the stopwords.\n",
    "\n",
    "This function should define two optional parameters, extra_words and exclude_words. These parameters should define any additional stop words to include, and any words that we don't want to remove."
   ]
  },
  {
   "cell_type": "code",
   "execution_count": 6,
   "id": "d6433f3a",
   "metadata": {},
   "outputs": [],
   "source": [
    "def remove_stopwords(text, stopword_list=stopwords.words('english')):\n",
    "    words = text.split()\n",
    "    filtered_words = [word for word in words if word not in stopword_list]\n",
    "    return ' '.join(filtered_words)"
   ]
  },
  {
   "cell_type": "markdown",
   "id": "fa3b162d",
   "metadata": {},
   "source": [
    "#### 6. Use your data from the acquire to produce a dataframe of the news articles. Name the dataframe news_df.\n"
   ]
  },
  {
   "cell_type": "code",
   "execution_count": 7,
   "id": "68368d0e",
   "metadata": {},
   "outputs": [
    {
     "name": "stdout",
     "output_type": "stream",
     "text": [
      "Reading from local CSV...\n"
     ]
    }
   ],
   "source": [
    "news_df = acquire.get_news_articles()"
   ]
  },
  {
   "cell_type": "markdown",
   "id": "5eb07781",
   "metadata": {},
   "source": [
    "#### 7. Make another dataframe for the Codeup blog posts. Name the dataframe codeup_df.\n"
   ]
  },
  {
   "cell_type": "code",
   "execution_count": 8,
   "id": "3c48f611",
   "metadata": {},
   "outputs": [
    {
     "name": "stdout",
     "output_type": "stream",
     "text": [
      "Reading from local CSV...\n"
     ]
    }
   ],
   "source": [
    "codeup_df = acquire.get_blog_articles()"
   ]
  },
  {
   "cell_type": "markdown",
   "id": "6db9a477",
   "metadata": {},
   "source": [
    "#### 8. For each dataframe, produce the following columns:\n",
    "\n",
    "- title to hold the title\n",
    "- original to hold the original article/post content\n",
    "- clean to hold the normalized and tokenized original with the stopwords removed.\n",
    "- stemmed to hold the stemmed version of the cleaned data.\n",
    "- lemmatized to hold the lemmatized version of the cleaned data.\n",
    "\n"
   ]
  },
  {
   "cell_type": "code",
   "execution_count": 9,
   "id": "6e0dd944",
   "metadata": {},
   "outputs": [],
   "source": [
    "def nlp_prep(df):\n",
    "    df = df.rename(columns={'content':'original'})\n",
    "    df['clean'] = (df.original.apply(basic_clean)\n",
    "                     .apply(tokenize)\n",
    "                     .apply(remove_stopwords)\n",
    "                  )\n",
    "    df['stemmed'] = df.clean.apply(stem)\n",
    "    df['lemmatized'] = df.clean.apply(lemmatize)\n",
    "    return df"
   ]
  },
  {
   "cell_type": "markdown",
   "id": "c1262597",
   "metadata": {},
   "source": [
    "#### News Articles"
   ]
  },
  {
   "cell_type": "code",
   "execution_count": 10,
   "id": "8d57751b",
   "metadata": {},
   "outputs": [
    {
     "data": {
      "text/html": [
       "<div>\n",
       "<style scoped>\n",
       "    .dataframe tbody tr th:only-of-type {\n",
       "        vertical-align: middle;\n",
       "    }\n",
       "\n",
       "    .dataframe tbody tr th {\n",
       "        vertical-align: top;\n",
       "    }\n",
       "\n",
       "    .dataframe thead th {\n",
       "        text-align: right;\n",
       "    }\n",
       "</style>\n",
       "<table border=\"1\" class=\"dataframe\">\n",
       "  <thead>\n",
       "    <tr style=\"text-align: right;\">\n",
       "      <th></th>\n",
       "      <th>title</th>\n",
       "      <th>author</th>\n",
       "      <th>content</th>\n",
       "      <th>category</th>\n",
       "    </tr>\n",
       "  </thead>\n",
       "  <tbody>\n",
       "    <tr>\n",
       "      <th>0</th>\n",
       "      <td>Rupee hits all-time low of 77.42 against US do...</td>\n",
       "      <td>Apaar Sharma</td>\n",
       "      <td>The Indian rupee fell to an all-time low of 77...</td>\n",
       "      <td>business</td>\n",
       "    </tr>\n",
       "    <tr>\n",
       "      <th>1</th>\n",
       "      <td>Bitcoin falls to the lowest level since Januar...</td>\n",
       "      <td>Pragya Swastik</td>\n",
       "      <td>Bitcoin fell on Monday to as low as $33,266 in...</td>\n",
       "      <td>business</td>\n",
       "    </tr>\n",
       "    <tr>\n",
       "      <th>2</th>\n",
       "      <td>Made best possible decision: IndiGo on barring...</td>\n",
       "      <td>Pragya Swastik</td>\n",
       "      <td>IndiGo's CEO Ronojoy Dutta said the airline ma...</td>\n",
       "      <td>business</td>\n",
       "    </tr>\n",
       "  </tbody>\n",
       "</table>\n",
       "</div>"
      ],
      "text/plain": [
       "                                               title          author  \\\n",
       "0  Rupee hits all-time low of 77.42 against US do...    Apaar Sharma   \n",
       "1  Bitcoin falls to the lowest level since Januar...  Pragya Swastik   \n",
       "2  Made best possible decision: IndiGo on barring...  Pragya Swastik   \n",
       "\n",
       "                                             content  category  \n",
       "0  The Indian rupee fell to an all-time low of 77...  business  \n",
       "1  Bitcoin fell on Monday to as low as $33,266 in...  business  \n",
       "2  IndiGo's CEO Ronojoy Dutta said the airline ma...  business  "
      ]
     },
     "execution_count": 10,
     "metadata": {},
     "output_type": "execute_result"
    }
   ],
   "source": [
    "news_df.head(3)"
   ]
  },
  {
   "cell_type": "code",
   "execution_count": 11,
   "id": "cd85dab3",
   "metadata": {},
   "outputs": [
    {
     "data": {
      "text/html": [
       "<div>\n",
       "<style scoped>\n",
       "    .dataframe tbody tr th:only-of-type {\n",
       "        vertical-align: middle;\n",
       "    }\n",
       "\n",
       "    .dataframe tbody tr th {\n",
       "        vertical-align: top;\n",
       "    }\n",
       "\n",
       "    .dataframe thead th {\n",
       "        text-align: right;\n",
       "    }\n",
       "</style>\n",
       "<table border=\"1\" class=\"dataframe\">\n",
       "  <thead>\n",
       "    <tr style=\"text-align: right;\">\n",
       "      <th></th>\n",
       "      <th>title</th>\n",
       "      <th>author</th>\n",
       "      <th>original</th>\n",
       "      <th>category</th>\n",
       "      <th>clean</th>\n",
       "      <th>stemmed</th>\n",
       "      <th>lemmatized</th>\n",
       "    </tr>\n",
       "  </thead>\n",
       "  <tbody>\n",
       "    <tr>\n",
       "      <th>0</th>\n",
       "      <td>Rupee hits all-time low of 77.42 against US do...</td>\n",
       "      <td>Apaar Sharma</td>\n",
       "      <td>The Indian rupee fell to an all-time low of 77...</td>\n",
       "      <td>business</td>\n",
       "      <td>indian rupee fell alltime low 7742 us dollar m...</td>\n",
       "      <td>indian rupe fell alltim low 7742 us dollar mon...</td>\n",
       "      <td>indian rupee fell alltime low 7742 u dollar mo...</td>\n",
       "    </tr>\n",
       "    <tr>\n",
       "      <th>1</th>\n",
       "      <td>Bitcoin falls to the lowest level since Januar...</td>\n",
       "      <td>Pragya Swastik</td>\n",
       "      <td>Bitcoin fell on Monday to as low as $33,266 in...</td>\n",
       "      <td>business</td>\n",
       "      <td>bitcoin fell monday low 33266 morning trade ne...</td>\n",
       "      <td>bitcoin fell monday low 33266 morn trade near ...</td>\n",
       "      <td>bitcoin fell monday low 33266 morning trade ne...</td>\n",
       "    </tr>\n",
       "    <tr>\n",
       "      <th>2</th>\n",
       "      <td>Made best possible decision: IndiGo on barring...</td>\n",
       "      <td>Pragya Swastik</td>\n",
       "      <td>IndiGo's CEO Ronojoy Dutta said the airline ma...</td>\n",
       "      <td>business</td>\n",
       "      <td>indigo ' ceo ronojoy dutta said airline made b...</td>\n",
       "      <td>indigo ' ceo ronojoy dutta said airlin made be...</td>\n",
       "      <td>indigo ' ceo ronojoy dutta said airline made b...</td>\n",
       "    </tr>\n",
       "    <tr>\n",
       "      <th>3</th>\n",
       "      <td>India's biggest IPO of LIC subscribed nearly 3...</td>\n",
       "      <td>Pragya Swastik</td>\n",
       "      <td>LIC's IPO, India's biggest IPO which opened on...</td>\n",
       "      <td>business</td>\n",
       "      <td>lic ' ipo india ' biggest ipo opened may 4 clo...</td>\n",
       "      <td>lic ' ipo india ' biggest ipo open may 4 close...</td>\n",
       "      <td>lic ' ipo india ' biggest ipo opened may 4 clo...</td>\n",
       "    </tr>\n",
       "    <tr>\n",
       "      <th>4</th>\n",
       "      <td>If I die under mysterious circumstances, nice ...</td>\n",
       "      <td>Ridham Gambhir</td>\n",
       "      <td>Tesla CEO Elon Musk has tweeted, \"If I die und...</td>\n",
       "      <td>business</td>\n",
       "      <td>tesla ceo elon musk tweeted die mysterious cir...</td>\n",
       "      <td>tesla ceo elon musk tweet die mysteri circumst...</td>\n",
       "      <td>tesla ceo elon musk tweeted die mysterious cir...</td>\n",
       "    </tr>\n",
       "  </tbody>\n",
       "</table>\n",
       "</div>"
      ],
      "text/plain": [
       "                                               title          author  \\\n",
       "0  Rupee hits all-time low of 77.42 against US do...    Apaar Sharma   \n",
       "1  Bitcoin falls to the lowest level since Januar...  Pragya Swastik   \n",
       "2  Made best possible decision: IndiGo on barring...  Pragya Swastik   \n",
       "3  India's biggest IPO of LIC subscribed nearly 3...  Pragya Swastik   \n",
       "4  If I die under mysterious circumstances, nice ...  Ridham Gambhir   \n",
       "\n",
       "                                            original  category  \\\n",
       "0  The Indian rupee fell to an all-time low of 77...  business   \n",
       "1  Bitcoin fell on Monday to as low as $33,266 in...  business   \n",
       "2  IndiGo's CEO Ronojoy Dutta said the airline ma...  business   \n",
       "3  LIC's IPO, India's biggest IPO which opened on...  business   \n",
       "4  Tesla CEO Elon Musk has tweeted, \"If I die und...  business   \n",
       "\n",
       "                                               clean  \\\n",
       "0  indian rupee fell alltime low 7742 us dollar m...   \n",
       "1  bitcoin fell monday low 33266 morning trade ne...   \n",
       "2  indigo ' ceo ronojoy dutta said airline made b...   \n",
       "3  lic ' ipo india ' biggest ipo opened may 4 clo...   \n",
       "4  tesla ceo elon musk tweeted die mysterious cir...   \n",
       "\n",
       "                                             stemmed  \\\n",
       "0  indian rupe fell alltim low 7742 us dollar mon...   \n",
       "1  bitcoin fell monday low 33266 morn trade near ...   \n",
       "2  indigo ' ceo ronojoy dutta said airlin made be...   \n",
       "3  lic ' ipo india ' biggest ipo open may 4 close...   \n",
       "4  tesla ceo elon musk tweet die mysteri circumst...   \n",
       "\n",
       "                                          lemmatized  \n",
       "0  indian rupee fell alltime low 7742 u dollar mo...  \n",
       "1  bitcoin fell monday low 33266 morning trade ne...  \n",
       "2  indigo ' ceo ronojoy dutta said airline made b...  \n",
       "3  lic ' ipo india ' biggest ipo opened may 4 clo...  \n",
       "4  tesla ceo elon musk tweeted die mysterious cir...  "
      ]
     },
     "execution_count": 11,
     "metadata": {},
     "output_type": "execute_result"
    }
   ],
   "source": [
    "news_df = nlp_prep(news_df)\n",
    "news_df.head()"
   ]
  },
  {
   "cell_type": "markdown",
   "id": "9bb2fb3c",
   "metadata": {},
   "source": [
    "#### Codeup Articles"
   ]
  },
  {
   "cell_type": "code",
   "execution_count": 12,
   "id": "69aee598",
   "metadata": {},
   "outputs": [
    {
     "data": {
      "text/html": [
       "<div>\n",
       "<style scoped>\n",
       "    .dataframe tbody tr th:only-of-type {\n",
       "        vertical-align: middle;\n",
       "    }\n",
       "\n",
       "    .dataframe tbody tr th {\n",
       "        vertical-align: top;\n",
       "    }\n",
       "\n",
       "    .dataframe thead th {\n",
       "        text-align: right;\n",
       "    }\n",
       "</style>\n",
       "<table border=\"1\" class=\"dataframe\">\n",
       "  <thead>\n",
       "    <tr style=\"text-align: right;\">\n",
       "      <th></th>\n",
       "      <th>title</th>\n",
       "      <th>content</th>\n",
       "    </tr>\n",
       "  </thead>\n",
       "  <tbody>\n",
       "    <tr>\n",
       "      <th>0</th>\n",
       "      <td>From Bootcamp to Bootcamp | A Military Appreci...</td>\n",
       "      <td>In honor of Military Appreciation Month, join ...</td>\n",
       "    </tr>\n",
       "    <tr>\n",
       "      <th>1</th>\n",
       "      <td>Our Acquisition of the Rackspace Cloud Academy...</td>\n",
       "      <td>Just about a year ago on April 16th, 2021 we a...</td>\n",
       "    </tr>\n",
       "    <tr>\n",
       "      <th>2</th>\n",
       "      <td>Learn to Code: HTML &amp; CSS on 4/30</td>\n",
       "      <td>HTML &amp; CSS are the design building blocks of a...</td>\n",
       "    </tr>\n",
       "    <tr>\n",
       "      <th>3</th>\n",
       "      <td>Learn to Code: Python Workshop on 4/23</td>\n",
       "      <td>According to LinkedIn, the “#1 Most Promising ...</td>\n",
       "    </tr>\n",
       "    <tr>\n",
       "      <th>4</th>\n",
       "      <td>Coming Soon: Cloud Administration</td>\n",
       "      <td>We’re launching a new program out of San Anton...</td>\n",
       "    </tr>\n",
       "  </tbody>\n",
       "</table>\n",
       "</div>"
      ],
      "text/plain": [
       "                                               title  \\\n",
       "0  From Bootcamp to Bootcamp | A Military Appreci...   \n",
       "1  Our Acquisition of the Rackspace Cloud Academy...   \n",
       "2                  Learn to Code: HTML & CSS on 4/30   \n",
       "3             Learn to Code: Python Workshop on 4/23   \n",
       "4                  Coming Soon: Cloud Administration   \n",
       "\n",
       "                                             content  \n",
       "0  In honor of Military Appreciation Month, join ...  \n",
       "1  Just about a year ago on April 16th, 2021 we a...  \n",
       "2  HTML & CSS are the design building blocks of a...  \n",
       "3  According to LinkedIn, the “#1 Most Promising ...  \n",
       "4  We’re launching a new program out of San Anton...  "
      ]
     },
     "execution_count": 12,
     "metadata": {},
     "output_type": "execute_result"
    }
   ],
   "source": [
    "codeup_df.head()"
   ]
  },
  {
   "cell_type": "code",
   "execution_count": 13,
   "id": "ae204bd9",
   "metadata": {},
   "outputs": [
    {
     "data": {
      "text/html": [
       "<div>\n",
       "<style scoped>\n",
       "    .dataframe tbody tr th:only-of-type {\n",
       "        vertical-align: middle;\n",
       "    }\n",
       "\n",
       "    .dataframe tbody tr th {\n",
       "        vertical-align: top;\n",
       "    }\n",
       "\n",
       "    .dataframe thead th {\n",
       "        text-align: right;\n",
       "    }\n",
       "</style>\n",
       "<table border=\"1\" class=\"dataframe\">\n",
       "  <thead>\n",
       "    <tr style=\"text-align: right;\">\n",
       "      <th></th>\n",
       "      <th>title</th>\n",
       "      <th>original</th>\n",
       "      <th>clean</th>\n",
       "      <th>stemmed</th>\n",
       "      <th>lemmatized</th>\n",
       "    </tr>\n",
       "  </thead>\n",
       "  <tbody>\n",
       "    <tr>\n",
       "      <th>0</th>\n",
       "      <td>From Bootcamp to Bootcamp | A Military Appreci...</td>\n",
       "      <td>In honor of Military Appreciation Month, join ...</td>\n",
       "      <td>honor military appreciation month join us disc...</td>\n",
       "      <td>honor militari appreci month join us discuss c...</td>\n",
       "      <td>honor military appreciation month join u discu...</td>\n",
       "    </tr>\n",
       "    <tr>\n",
       "      <th>1</th>\n",
       "      <td>Our Acquisition of the Rackspace Cloud Academy...</td>\n",
       "      <td>Just about a year ago on April 16th, 2021 we a...</td>\n",
       "      <td>year ago april 16th 2021 announced acquisition...</td>\n",
       "      <td>year ago april 16th 2021 announc acquisit rack...</td>\n",
       "      <td>year ago april 16th 2021 announced acquisition...</td>\n",
       "    </tr>\n",
       "    <tr>\n",
       "      <th>2</th>\n",
       "      <td>Learn to Code: HTML &amp; CSS on 4/30</td>\n",
       "      <td>HTML &amp; CSS are the design building blocks of a...</td>\n",
       "      <td>html css design building blocks websites inter...</td>\n",
       "      <td>html css design build block websit interact da...</td>\n",
       "      <td>html cs design building block website interact...</td>\n",
       "    </tr>\n",
       "    <tr>\n",
       "      <th>3</th>\n",
       "      <td>Learn to Code: Python Workshop on 4/23</td>\n",
       "      <td>According to LinkedIn, the “#1 Most Promising ...</td>\n",
       "      <td>according linkedin 1 promising job data scienc...</td>\n",
       "      <td>accord linkedin 1 promis job data scienc codeu...</td>\n",
       "      <td>according linkedin 1 promising job data scienc...</td>\n",
       "    </tr>\n",
       "    <tr>\n",
       "      <th>4</th>\n",
       "      <td>Coming Soon: Cloud Administration</td>\n",
       "      <td>We’re launching a new program out of San Anton...</td>\n",
       "      <td>launching new program san antonio acquisition ...</td>\n",
       "      <td>launch new program san antonio acquisit racksp...</td>\n",
       "      <td>launching new program san antonio acquisition ...</td>\n",
       "    </tr>\n",
       "  </tbody>\n",
       "</table>\n",
       "</div>"
      ],
      "text/plain": [
       "                                               title  \\\n",
       "0  From Bootcamp to Bootcamp | A Military Appreci...   \n",
       "1  Our Acquisition of the Rackspace Cloud Academy...   \n",
       "2                  Learn to Code: HTML & CSS on 4/30   \n",
       "3             Learn to Code: Python Workshop on 4/23   \n",
       "4                  Coming Soon: Cloud Administration   \n",
       "\n",
       "                                            original  \\\n",
       "0  In honor of Military Appreciation Month, join ...   \n",
       "1  Just about a year ago on April 16th, 2021 we a...   \n",
       "2  HTML & CSS are the design building blocks of a...   \n",
       "3  According to LinkedIn, the “#1 Most Promising ...   \n",
       "4  We’re launching a new program out of San Anton...   \n",
       "\n",
       "                                               clean  \\\n",
       "0  honor military appreciation month join us disc...   \n",
       "1  year ago april 16th 2021 announced acquisition...   \n",
       "2  html css design building blocks websites inter...   \n",
       "3  according linkedin 1 promising job data scienc...   \n",
       "4  launching new program san antonio acquisition ...   \n",
       "\n",
       "                                             stemmed  \\\n",
       "0  honor militari appreci month join us discuss c...   \n",
       "1  year ago april 16th 2021 announc acquisit rack...   \n",
       "2  html css design build block websit interact da...   \n",
       "3  accord linkedin 1 promis job data scienc codeu...   \n",
       "4  launch new program san antonio acquisit racksp...   \n",
       "\n",
       "                                          lemmatized  \n",
       "0  honor military appreciation month join u discu...  \n",
       "1  year ago april 16th 2021 announced acquisition...  \n",
       "2  html cs design building block website interact...  \n",
       "3  according linkedin 1 promising job data scienc...  \n",
       "4  launching new program san antonio acquisition ...  "
      ]
     },
     "execution_count": 13,
     "metadata": {},
     "output_type": "execute_result"
    }
   ],
   "source": [
    "codeup_df = nlp_prep(codeup_df)\n",
    "codeup_df.head()"
   ]
  },
  {
   "cell_type": "markdown",
   "id": "d75d6c1c",
   "metadata": {},
   "source": [
    "#### Testing the prepare module"
   ]
  },
  {
   "cell_type": "code",
   "execution_count": 14,
   "id": "90a14e58",
   "metadata": {},
   "outputs": [
    {
     "name": "stdout",
     "output_type": "stream",
     "text": [
      "Reading from local CSV...\n"
     ]
    },
    {
     "data": {
      "text/html": [
       "<div>\n",
       "<style scoped>\n",
       "    .dataframe tbody tr th:only-of-type {\n",
       "        vertical-align: middle;\n",
       "    }\n",
       "\n",
       "    .dataframe tbody tr th {\n",
       "        vertical-align: top;\n",
       "    }\n",
       "\n",
       "    .dataframe thead th {\n",
       "        text-align: right;\n",
       "    }\n",
       "</style>\n",
       "<table border=\"1\" class=\"dataframe\">\n",
       "  <thead>\n",
       "    <tr style=\"text-align: right;\">\n",
       "      <th></th>\n",
       "      <th>title</th>\n",
       "      <th>author</th>\n",
       "      <th>content</th>\n",
       "      <th>category</th>\n",
       "    </tr>\n",
       "  </thead>\n",
       "  <tbody>\n",
       "    <tr>\n",
       "      <th>0</th>\n",
       "      <td>Rupee hits all-time low of 77.42 against US do...</td>\n",
       "      <td>Apaar Sharma</td>\n",
       "      <td>The Indian rupee fell to an all-time low of 77...</td>\n",
       "      <td>business</td>\n",
       "    </tr>\n",
       "    <tr>\n",
       "      <th>1</th>\n",
       "      <td>Bitcoin falls to the lowest level since Januar...</td>\n",
       "      <td>Pragya Swastik</td>\n",
       "      <td>Bitcoin fell on Monday to as low as $33,266 in...</td>\n",
       "      <td>business</td>\n",
       "    </tr>\n",
       "    <tr>\n",
       "      <th>2</th>\n",
       "      <td>Made best possible decision: IndiGo on barring...</td>\n",
       "      <td>Pragya Swastik</td>\n",
       "      <td>IndiGo's CEO Ronojoy Dutta said the airline ma...</td>\n",
       "      <td>business</td>\n",
       "    </tr>\n",
       "  </tbody>\n",
       "</table>\n",
       "</div>"
      ],
      "text/plain": [
       "                                               title          author  \\\n",
       "0  Rupee hits all-time low of 77.42 against US do...    Apaar Sharma   \n",
       "1  Bitcoin falls to the lowest level since Januar...  Pragya Swastik   \n",
       "2  Made best possible decision: IndiGo on barring...  Pragya Swastik   \n",
       "\n",
       "                                             content  category  \n",
       "0  The Indian rupee fell to an all-time low of 77...  business  \n",
       "1  Bitcoin fell on Monday to as low as $33,266 in...  business  \n",
       "2  IndiGo's CEO Ronojoy Dutta said the airline ma...  business  "
      ]
     },
     "execution_count": 14,
     "metadata": {},
     "output_type": "execute_result"
    }
   ],
   "source": [
    "news_df = acquire.get_news_articles()\n",
    "news_df.head(3)"
   ]
  },
  {
   "cell_type": "code",
   "execution_count": 15,
   "id": "15756229",
   "metadata": {},
   "outputs": [
    {
     "data": {
      "text/html": [
       "<div>\n",
       "<style scoped>\n",
       "    .dataframe tbody tr th:only-of-type {\n",
       "        vertical-align: middle;\n",
       "    }\n",
       "\n",
       "    .dataframe tbody tr th {\n",
       "        vertical-align: top;\n",
       "    }\n",
       "\n",
       "    .dataframe thead th {\n",
       "        text-align: right;\n",
       "    }\n",
       "</style>\n",
       "<table border=\"1\" class=\"dataframe\">\n",
       "  <thead>\n",
       "    <tr style=\"text-align: right;\">\n",
       "      <th></th>\n",
       "      <th>title</th>\n",
       "      <th>author</th>\n",
       "      <th>original</th>\n",
       "      <th>category</th>\n",
       "      <th>clean</th>\n",
       "      <th>stemmed</th>\n",
       "      <th>lemmatized</th>\n",
       "    </tr>\n",
       "  </thead>\n",
       "  <tbody>\n",
       "    <tr>\n",
       "      <th>0</th>\n",
       "      <td>Rupee hits all-time low of 77.42 against US do...</td>\n",
       "      <td>Apaar Sharma</td>\n",
       "      <td>The Indian rupee fell to an all-time low of 77...</td>\n",
       "      <td>business</td>\n",
       "      <td>indian rupee fell alltime low 7742 us dollar m...</td>\n",
       "      <td>indian rupe fell alltim low 7742 us dollar mon...</td>\n",
       "      <td>indian rupee fell alltime low 7742 u dollar mo...</td>\n",
       "    </tr>\n",
       "    <tr>\n",
       "      <th>1</th>\n",
       "      <td>Bitcoin falls to the lowest level since Januar...</td>\n",
       "      <td>Pragya Swastik</td>\n",
       "      <td>Bitcoin fell on Monday to as low as $33,266 in...</td>\n",
       "      <td>business</td>\n",
       "      <td>bitcoin fell monday low 33266 morning trade ne...</td>\n",
       "      <td>bitcoin fell monday low 33266 morn trade near ...</td>\n",
       "      <td>bitcoin fell monday low 33266 morning trade ne...</td>\n",
       "    </tr>\n",
       "    <tr>\n",
       "      <th>2</th>\n",
       "      <td>Made best possible decision: IndiGo on barring...</td>\n",
       "      <td>Pragya Swastik</td>\n",
       "      <td>IndiGo's CEO Ronojoy Dutta said the airline ma...</td>\n",
       "      <td>business</td>\n",
       "      <td>indigo ' ceo ronojoy dutta said airline made b...</td>\n",
       "      <td>indigo ' ceo ronojoy dutta said airlin made be...</td>\n",
       "      <td>indigo ' ceo ronojoy dutta said airline made b...</td>\n",
       "    </tr>\n",
       "  </tbody>\n",
       "</table>\n",
       "</div>"
      ],
      "text/plain": [
       "                                               title          author  \\\n",
       "0  Rupee hits all-time low of 77.42 against US do...    Apaar Sharma   \n",
       "1  Bitcoin falls to the lowest level since Januar...  Pragya Swastik   \n",
       "2  Made best possible decision: IndiGo on barring...  Pragya Swastik   \n",
       "\n",
       "                                            original  category  \\\n",
       "0  The Indian rupee fell to an all-time low of 77...  business   \n",
       "1  Bitcoin fell on Monday to as low as $33,266 in...  business   \n",
       "2  IndiGo's CEO Ronojoy Dutta said the airline ma...  business   \n",
       "\n",
       "                                               clean  \\\n",
       "0  indian rupee fell alltime low 7742 us dollar m...   \n",
       "1  bitcoin fell monday low 33266 morning trade ne...   \n",
       "2  indigo ' ceo ronojoy dutta said airline made b...   \n",
       "\n",
       "                                             stemmed  \\\n",
       "0  indian rupe fell alltim low 7742 us dollar mon...   \n",
       "1  bitcoin fell monday low 33266 morn trade near ...   \n",
       "2  indigo ' ceo ronojoy dutta said airlin made be...   \n",
       "\n",
       "                                          lemmatized  \n",
       "0  indian rupee fell alltime low 7742 u dollar mo...  \n",
       "1  bitcoin fell monday low 33266 morning trade ne...  \n",
       "2  indigo ' ceo ronojoy dutta said airline made b...  "
      ]
     },
     "execution_count": 15,
     "metadata": {},
     "output_type": "execute_result"
    }
   ],
   "source": [
    "news_df = prepare.nlp_prep(news_df)\n",
    "news_df.head(3)"
   ]
  },
  {
   "cell_type": "code",
   "execution_count": 16,
   "id": "bb5a5c1b",
   "metadata": {},
   "outputs": [
    {
     "name": "stdout",
     "output_type": "stream",
     "text": [
      "Reading from local CSV...\n"
     ]
    },
    {
     "data": {
      "text/html": [
       "<div>\n",
       "<style scoped>\n",
       "    .dataframe tbody tr th:only-of-type {\n",
       "        vertical-align: middle;\n",
       "    }\n",
       "\n",
       "    .dataframe tbody tr th {\n",
       "        vertical-align: top;\n",
       "    }\n",
       "\n",
       "    .dataframe thead th {\n",
       "        text-align: right;\n",
       "    }\n",
       "</style>\n",
       "<table border=\"1\" class=\"dataframe\">\n",
       "  <thead>\n",
       "    <tr style=\"text-align: right;\">\n",
       "      <th></th>\n",
       "      <th>title</th>\n",
       "      <th>content</th>\n",
       "    </tr>\n",
       "  </thead>\n",
       "  <tbody>\n",
       "    <tr>\n",
       "      <th>0</th>\n",
       "      <td>From Bootcamp to Bootcamp | A Military Appreci...</td>\n",
       "      <td>In honor of Military Appreciation Month, join ...</td>\n",
       "    </tr>\n",
       "    <tr>\n",
       "      <th>1</th>\n",
       "      <td>Our Acquisition of the Rackspace Cloud Academy...</td>\n",
       "      <td>Just about a year ago on April 16th, 2021 we a...</td>\n",
       "    </tr>\n",
       "    <tr>\n",
       "      <th>2</th>\n",
       "      <td>Learn to Code: HTML &amp; CSS on 4/30</td>\n",
       "      <td>HTML &amp; CSS are the design building blocks of a...</td>\n",
       "    </tr>\n",
       "  </tbody>\n",
       "</table>\n",
       "</div>"
      ],
      "text/plain": [
       "                                               title  \\\n",
       "0  From Bootcamp to Bootcamp | A Military Appreci...   \n",
       "1  Our Acquisition of the Rackspace Cloud Academy...   \n",
       "2                  Learn to Code: HTML & CSS on 4/30   \n",
       "\n",
       "                                             content  \n",
       "0  In honor of Military Appreciation Month, join ...  \n",
       "1  Just about a year ago on April 16th, 2021 we a...  \n",
       "2  HTML & CSS are the design building blocks of a...  "
      ]
     },
     "execution_count": 16,
     "metadata": {},
     "output_type": "execute_result"
    }
   ],
   "source": [
    "codeup_df = acquire.get_blog_articles()\n",
    "codeup_df.head(3)"
   ]
  },
  {
   "cell_type": "code",
   "execution_count": 18,
   "id": "811afdaf",
   "metadata": {},
   "outputs": [
    {
     "data": {
      "text/html": [
       "<div>\n",
       "<style scoped>\n",
       "    .dataframe tbody tr th:only-of-type {\n",
       "        vertical-align: middle;\n",
       "    }\n",
       "\n",
       "    .dataframe tbody tr th {\n",
       "        vertical-align: top;\n",
       "    }\n",
       "\n",
       "    .dataframe thead th {\n",
       "        text-align: right;\n",
       "    }\n",
       "</style>\n",
       "<table border=\"1\" class=\"dataframe\">\n",
       "  <thead>\n",
       "    <tr style=\"text-align: right;\">\n",
       "      <th></th>\n",
       "      <th>title</th>\n",
       "      <th>original</th>\n",
       "      <th>clean</th>\n",
       "      <th>stemmed</th>\n",
       "      <th>lemmatized</th>\n",
       "    </tr>\n",
       "  </thead>\n",
       "  <tbody>\n",
       "    <tr>\n",
       "      <th>0</th>\n",
       "      <td>From Bootcamp to Bootcamp | A Military Appreci...</td>\n",
       "      <td>In honor of Military Appreciation Month, join ...</td>\n",
       "      <td>honor military appreciation month join us disc...</td>\n",
       "      <td>honor militari appreci month join us discuss c...</td>\n",
       "      <td>honor military appreciation month join u discu...</td>\n",
       "    </tr>\n",
       "    <tr>\n",
       "      <th>1</th>\n",
       "      <td>Our Acquisition of the Rackspace Cloud Academy...</td>\n",
       "      <td>Just about a year ago on April 16th, 2021 we a...</td>\n",
       "      <td>year ago april 16th 2021 announced acquisition...</td>\n",
       "      <td>year ago april 16th 2021 announc acquisit rack...</td>\n",
       "      <td>year ago april 16th 2021 announced acquisition...</td>\n",
       "    </tr>\n",
       "    <tr>\n",
       "      <th>2</th>\n",
       "      <td>Learn to Code: HTML &amp; CSS on 4/30</td>\n",
       "      <td>HTML &amp; CSS are the design building blocks of a...</td>\n",
       "      <td>html css design building blocks websites inter...</td>\n",
       "      <td>html css design build block websit interact da...</td>\n",
       "      <td>html cs design building block website interact...</td>\n",
       "    </tr>\n",
       "  </tbody>\n",
       "</table>\n",
       "</div>"
      ],
      "text/plain": [
       "                                               title  \\\n",
       "0  From Bootcamp to Bootcamp | A Military Appreci...   \n",
       "1  Our Acquisition of the Rackspace Cloud Academy...   \n",
       "2                  Learn to Code: HTML & CSS on 4/30   \n",
       "\n",
       "                                            original  \\\n",
       "0  In honor of Military Appreciation Month, join ...   \n",
       "1  Just about a year ago on April 16th, 2021 we a...   \n",
       "2  HTML & CSS are the design building blocks of a...   \n",
       "\n",
       "                                               clean  \\\n",
       "0  honor military appreciation month join us disc...   \n",
       "1  year ago april 16th 2021 announced acquisition...   \n",
       "2  html css design building blocks websites inter...   \n",
       "\n",
       "                                             stemmed  \\\n",
       "0  honor militari appreci month join us discuss c...   \n",
       "1  year ago april 16th 2021 announc acquisit rack...   \n",
       "2  html css design build block websit interact da...   \n",
       "\n",
       "                                          lemmatized  \n",
       "0  honor military appreciation month join u discu...  \n",
       "1  year ago april 16th 2021 announced acquisition...  \n",
       "2  html cs design building block website interact...  "
      ]
     },
     "execution_count": 18,
     "metadata": {},
     "output_type": "execute_result"
    }
   ],
   "source": [
    "codeup_df = prepare.nlp_prep(codeup_df)\n",
    "codeup_df.head(3)"
   ]
  },
  {
   "cell_type": "markdown",
   "id": "5d0fb896",
   "metadata": {},
   "source": [
    "#### 9. Ask yourself:\n",
    "\n",
    "- If your corpus is 493KB, would you prefer to use stemmed or lemmatized text?\n",
    "- If your corpus is 25MB, would you prefer to use stemmed or lemmatized text?\n",
    "- If your corpus is 200TB of text and you're charged by the megabyte for your hosted computational resources, would you prefer to use stemmed or lemmatized text?\n",
    "\n"
   ]
  }
 ],
 "metadata": {
  "kernelspec": {
   "display_name": "Python 3 (ipykernel)",
   "language": "python",
   "name": "python3"
  },
  "language_info": {
   "codemirror_mode": {
    "name": "ipython",
    "version": 3
   },
   "file_extension": ".py",
   "mimetype": "text/x-python",
   "name": "python",
   "nbconvert_exporter": "python",
   "pygments_lexer": "ipython3",
   "version": "3.9.7"
  }
 },
 "nbformat": 4,
 "nbformat_minor": 5
}
